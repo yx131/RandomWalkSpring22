{
 "cells": [
  {
   "cell_type": "code",
   "execution_count": 1,
   "metadata": {},
   "outputs": [],
   "source": [
    "from collections import Counter\n",
    "import numpy as np"
   ]
  },
  {
   "cell_type": "code",
   "execution_count": 2,
   "metadata": {},
   "outputs": [],
   "source": [
    "transition_matrix = np.array([[0, .5, .5], [.5, 0, .5], [.5, .5, 0]])"
   ]
  },
  {
   "cell_type": "code",
   "execution_count": 3,
   "metadata": {},
   "outputs": [],
   "source": [
    "def count_numsteps_before_returning_to_0(num_trials=100, transition_matrix=transition_matrix):\n",
    "    num_steps_counter = Counter() #keep track of number of steps taken before returning to 0. \n",
    "                           #key is number of steps. value is number of times of returning to value in key steps.\n",
    "    \n",
    "    for num_trial in range(num_trials):\n",
    "        current_pos = 0\n",
    "        returned_to_0 = False\n",
    "        num_steps = 0\n",
    "        while not returned_to_0:\n",
    "            new_pos = np.random.choice(a=len(transition_matrix[current_pos]), \n",
    "                                       size=1, \n",
    "                                       p=transition_matrix[current_pos])[0]\n",
    "            current_pos = new_pos\n",
    "            num_steps += 1\n",
    "            \n",
    "            if current_pos == 0:\n",
    "                returned_to_0 = True\n",
    "                num_steps_counter[num_steps] += 1                \n",
    "                \n",
    "    return num_steps_counter"
   ]
  },
  {
   "cell_type": "code",
   "execution_count": 4,
   "metadata": {},
   "outputs": [],
   "source": [
    "num_steps_counter = count_numsteps_before_returning_to_0(num_trials=1000000)"
   ]
  },
  {
   "cell_type": "code",
   "execution_count": 5,
   "metadata": {},
   "outputs": [],
   "source": [
    "def print_num_steps_out(num_steps_counter, graph_name='K_3'):\n",
    "    total_experiments = np.sum(list(num_steps_counter.values()))\n",
    "    print(f'Total number of experiments ran on {graph_name}: {total_experiments}')\n",
    "    num_steps_sorted = sorted(num_steps_counter.keys())\n",
    "    for i in range(len(num_steps_sorted)):\n",
    "        i_step_times = num_steps_counter[i]\n",
    "        if i_step_times != 0:\n",
    "            print(f'Number of times the random walk returned to 0 in {i} steps is: {i_step_times}, or {100*i_step_times/total_experiments:.3f}% of total experiments.')"
   ]
  },
  {
   "cell_type": "code",
   "execution_count": 6,
   "metadata": {},
   "outputs": [
    {
     "name": "stdout",
     "output_type": "stream",
     "text": [
      "Total number of experiments ran on K_3: 1000000\n",
      "Number of times the random walk returned to 0 in 2 steps is: 499880, or 49.988% of total experiments.\n",
      "Number of times the random walk returned to 0 in 3 steps is: 249885, or 24.988% of total experiments.\n",
      "Number of times the random walk returned to 0 in 4 steps is: 125046, or 12.505% of total experiments.\n",
      "Number of times the random walk returned to 0 in 5 steps is: 62779, or 6.278% of total experiments.\n",
      "Number of times the random walk returned to 0 in 6 steps is: 30922, or 3.092% of total experiments.\n",
      "Number of times the random walk returned to 0 in 7 steps is: 15802, or 1.580% of total experiments.\n",
      "Number of times the random walk returned to 0 in 8 steps is: 7981, or 0.798% of total experiments.\n",
      "Number of times the random walk returned to 0 in 9 steps is: 3939, or 0.394% of total experiments.\n",
      "Number of times the random walk returned to 0 in 10 steps is: 1867, or 0.187% of total experiments.\n",
      "Number of times the random walk returned to 0 in 11 steps is: 975, or 0.098% of total experiments.\n",
      "Number of times the random walk returned to 0 in 12 steps is: 479, or 0.048% of total experiments.\n",
      "Number of times the random walk returned to 0 in 13 steps is: 241, or 0.024% of total experiments.\n",
      "Number of times the random walk returned to 0 in 14 steps is: 104, or 0.010% of total experiments.\n",
      "Number of times the random walk returned to 0 in 15 steps is: 53, or 0.005% of total experiments.\n",
      "Number of times the random walk returned to 0 in 16 steps is: 27, or 0.003% of total experiments.\n",
      "Number of times the random walk returned to 0 in 17 steps is: 8, or 0.001% of total experiments.\n",
      "Number of times the random walk returned to 0 in 18 steps is: 4, or 0.000% of total experiments.\n",
      "Number of times the random walk returned to 0 in 19 steps is: 4, or 0.000% of total experiments.\n",
      "Number of times the random walk returned to 0 in 20 steps is: 1, or 0.000% of total experiments.\n",
      "Number of times the random walk returned to 0 in 21 steps is: 1, or 0.000% of total experiments.\n"
     ]
    }
   ],
   "source": [
    "print_num_steps_out(num_steps_counter)"
   ]
  },
  {
   "cell_type": "markdown",
   "metadata": {},
   "source": [
    "By looking at the number of experiments in which the walk returned to 0 after $i$ steps, we can see that the probability that the random walk returns to 0 after $i$ steps is $$\\frac{1}{2^{i-1}} \\; \\forall i \\geq 2$$"
   ]
  },
  {
   "cell_type": "code",
   "execution_count": null,
   "metadata": {},
   "outputs": [],
   "source": []
  }
 ],
 "metadata": {
  "kernelspec": {
   "display_name": "Python 3",
   "language": "python",
   "name": "python3"
  },
  "language_info": {
   "codemirror_mode": {
    "name": "ipython",
    "version": 3
   },
   "file_extension": ".py",
   "mimetype": "text/x-python",
   "name": "python",
   "nbconvert_exporter": "python",
   "pygments_lexer": "ipython3",
   "version": "3.8.5"
  }
 },
 "nbformat": 4,
 "nbformat_minor": 4
}
