{
 "cells": [
  {
   "cell_type": "code",
   "execution_count": 1,
   "metadata": {},
   "outputs": [],
   "source": [
    "import time\n",
    "from scipy.stats import expon\n",
    "import matplotlib.pyplot as plt\n",
    "import numpy as np"
   ]
  },
  {
   "cell_type": "markdown",
   "metadata": {},
   "source": [
    "Let us set teh expected lifetime of the lightbulbs to $x = 2$ hours and $y = 3$ hours.\n",
    "Our experiments should varify that the probability that $x$ outlasts $y$ is \n",
    "$$Pr(x\\;outlasts\\;y) = \\frac{2}{2+3} = 40\\%$$"
   ]
  },
  {
   "cell_type": "code",
   "execution_count": 2,
   "metadata": {},
   "outputs": [],
   "source": [
    "x , y = 2, 3"
   ]
  },
  {
   "cell_type": "code",
   "execution_count": 3,
   "metadata": {},
   "outputs": [],
   "source": [
    "x_distr = expon(scale=x)\n",
    "y_distr = expon(scale=y)"
   ]
  },
  {
   "cell_type": "code",
   "execution_count": 4,
   "metadata": {},
   "outputs": [],
   "source": [
    "def graph_exponential(x_distr, y_distr):\n",
    "    fig, ax = plt.subplots(1, 1)\n",
    "    x = np.linspace(x_distr.ppf(0.01), x_distr.ppf(0.99), 100)\n",
    "    y = np.linspace(y_distr.ppf(0.01), y_distr.ppf(0.99), 100)\n",
    "    ax.plot(x, x_distr.pdf(x), 'r', lw=5, alpha=0.6, label='expon pdf')\n",
    "    ax.plot(y, y_distr.pdf(y), 'b', lw=5, alpha=0.6, label='expon pdf')\n",
    "    ax.legend(['x', 'y'])\n",
    "    ax.set_xlabel(r'$x$ / $y$')\n",
    "    ax.set_ylabel(r'$P(x)$ / $P(y)$')\n",
    "    ax.set_title('Probability densitfy functions of x and y')"
   ]
  },
  {
   "cell_type": "code",
   "execution_count": 5,
   "metadata": {},
   "outputs": [
    {
     "data": {
      "image/png": "[encoded data removed]",
      "text/plain": [
       "<Figure size 432x288 with 1 Axes>"
      ]
     },
     "metadata": {
      "needs_background": "light"
     },
     "output_type": "display_data"
    }
   ],
   "source": [
    "graph_exponential(x_distr, y_distr)"
   ]
  },
  {
   "cell_type": "code",
   "execution_count": 6,
   "metadata": {},
   "outputs": [],
   "source": [
    "#recursive function to check for wins in a certain range\n",
    "def check_win_in_step_range(start, stop, numsteps):\n",
    "    x_wins, y_wins, draws = 0, 0, 0\n",
    "    steps = np.linspace(start=start, stop=stop, num=numsteps)\n",
    "    for idx, i in enumerate(steps):\n",
    "        x_die_prob = x_distr.cdf(i)\n",
    "        y_die_prob = y_distr.cdf(i)\n",
    "        \n",
    "        if np.random.rand() < x_die_prob and np.random.rand() > y_die_prob:\n",
    "            y_wins += 1\n",
    "            break\n",
    "        elif np.random.rand() > x_die_prob and np.random.rand() < y_die_prob:\n",
    "            x_wins += 1\n",
    "            break\n",
    "        elif np.random.rand() < x_die_prob and np.random.rand() < y_die_prob: \n",
    "            #in rare cases of \"draws\" when two bulbs fail together, assume x wins\n",
    "            #this technically wouldn't happen, but because of the discrete nature of experiments and\n",
    "            #the limitations of floating point numbers, we end up with forced \"draws\"\n",
    "            x_wins += 1\n",
    "            break\n",
    "        else:\n",
    "            pass\n",
    "    \n",
    "    return x_wins, y_wins"
   ]
  },
  {
   "cell_type": "markdown",
   "metadata": {},
   "source": [
    "We run a total of 10000 experiments to find  the number of times x and y won. <br>\n",
    "We let each experiment run for 10 hours max. <br>\n",
    "We check for bulb failure every 10/10000 hours, which is about 3.6 seconds <br>\n",
    "Note: due to the discrete nature of experiments and the limitations of floating point numbers, we end up (very rarely) with forced \"draws\", i.e., both light bulbs fail together in the same time step. In these very rare cases we'll just assume x won."
   ]
  },
  {
   "cell_type": "code",
   "execution_count": 7,
   "metadata": {},
   "outputs": [
    {
     "name": "stdout",
     "output_type": "stream",
     "text": [
      "Experiment finished in 56.61 seconds\n",
      "Total number of experiments done: 10000\n",
      "Number of times x won: 3938\n",
      "Number of times y won: 6062\n",
      "Percentage of times x won: 39.38%\n"
     ]
    }
   ],
   "source": [
    "num_exper = 10000\n",
    "max_time = 10\n",
    "num_steps= 10000 \n",
    "x_total_wins, y_total_wins = 0, 0\n",
    "exp_start_time = time.time()\n",
    "\n",
    "for i in range(num_exper):\n",
    "    x_wins, y_wins = check_win_in_step_range(0, max_time, num_steps)\n",
    "    x_total_wins += x_wins\n",
    "    y_total_wins += y_wins\n",
    "\n",
    "print(f'Experiment finished in {time.time() - exp_start_time:.2f} seconds')\n",
    "print(f'Total number of experiments done: {num_exper}')\n",
    "print(f'Number of times x won: {x_total_wins}')\n",
    "print(f'Number of times y won: {y_total_wins}')\n",
    "print(f'Percentage of times x won: {x_total_wins/(x_total_wins+y_total_wins)*100:.2f}%')\n"
   ]
  },
  {
   "cell_type": "markdown",
   "metadata": {},
   "source": [
    "We can see that x wins around 40.00% of the time, as expected."
   ]
  },
  {
   "cell_type": "code",
   "execution_count": null,
   "metadata": {},
   "outputs": [],
   "source": []
  }
 ],
 "metadata": {
  "kernelspec": {
   "display_name": "Python 3",
   "language": "python",
   "name": "python3"
  },
  "language_info": {
   "codemirror_mode": {
    "name": "ipython",
    "version": 3
   },
   "file_extension": ".py",
   "mimetype": "text/x-python",
   "name": "python",
   "nbconvert_exporter": "python",
   "pygments_lexer": "ipython3",
   "version": "3.8.5"
  }
 },
 "nbformat": 4,
 "nbformat_minor": 4
}
