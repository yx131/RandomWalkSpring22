{
 "cells": [
  {
   "cell_type": "code",
   "execution_count": 1,
   "id": "447325d9",
   "metadata": {},
   "outputs": [],
   "source": [
    "import numpy as np"
   ]
  },
  {
   "cell_type": "code",
   "execution_count": 2,
   "id": "3a22543e",
   "metadata": {},
   "outputs": [],
   "source": [
    "def walker_walk_1(walker, goingCW):\n",
    "    if walker == 11 and goingCW:\n",
    "        walker = 0 \n",
    "    elif walker == 0 and not goingCW:\n",
    "        walker = 11\n",
    "    else:\n",
    "        walker += 1 if goingCW else -1\n",
    "    return walker"
   ]
  },
  {
   "cell_type": "code",
   "execution_count": 3,
   "id": "ea8f65bd",
   "metadata": {},
   "outputs": [],
   "source": [
    "def walker_walk_2(walker, goingCW):\n",
    "    if walker == 11 and goingCW:\n",
    "        walker = 0 \n",
    "    elif walker == 0 and not goingCW:\n",
    "        walker = 11\n",
    "    elif walker == 9:\n",
    "        walker = 8\n",
    "    elif walker == 10:\n",
    "        walker = 11\n",
    "    else:\n",
    "        walker += 1 if goingCW else -1\n",
    "    return walker"
   ]
  },
  {
   "cell_type": "code",
   "execution_count": 4,
   "id": "ac960d97",
   "metadata": {},
   "outputs": [],
   "source": [
    "def run_walk(walker_walk_func):\n",
    "    walker = 0\n",
    "    havent_hit_0_yet = True\n",
    "\n",
    "    while havent_hit_0_yet and walker != 6:\n",
    "        prob = np.random.rand(1)[0]\n",
    "        goingCW = prob > .5 \n",
    "#         print(f'goingCW {goingCW}')\n",
    "        walker = walker_walk_func(walker, goingCW)\n",
    "\n",
    "        if havent_hit_0_yet and walker == 0:\n",
    "            havent_hit_0_yet = False\n",
    "        \n",
    "#         print(f'walker at: {walker}')\n",
    "    return walker"
   ]
  },
  {
   "cell_type": "code",
   "execution_count": 5,
   "id": "6e80ab9c",
   "metadata": {},
   "outputs": [],
   "source": [
    "def question(walker_walk_func, total_trials=1000000):\n",
    "    num_0, num_6  = 0,  0,\n",
    "    for i in range(total_trials):\n",
    "        walk_res = run_walk(walker_walk_func)\n",
    "        if walk_res == 0:\n",
    "            num_0 += 1\n",
    "        elif walk_res == 6:\n",
    "            num_6 += 1\n",
    "\n",
    "    #     print(walk_res)\n",
    "    \n",
    "    print(f'Total number of experiments: {total_trials}')\n",
    "    print(f'Number of times of non-escapes (hitting 0 before 6): {num_0}')\n",
    "    print(f'Number of times of escapes (hitting 6 before 0): {num_6}')\n",
    "    print(f'Percentage of escapes: {100*num_6/total_trials:.2f}%')"
   ]
  },
  {
   "cell_type": "code",
   "execution_count": null,
   "id": "9039084e",
   "metadata": {},
   "outputs": [],
   "source": [
    "question(walker_walk_1, total_trials=1000000)"
   ]
  },
  {
   "cell_type": "code",
   "execution_count": null,
   "id": "74be69bd",
   "metadata": {},
   "outputs": [],
   "source": [
    "question(walker_walk_2, total_trials=1000000)"
   ]
  },
  {
   "cell_type": "code",
   "execution_count": null,
   "id": "03043018",
   "metadata": {},
   "outputs": [],
   "source": []
  }
 ],
 "metadata": {
  "kernelspec": {
   "display_name": "Python 3 (ipykernel)",
   "language": "python",
   "name": "python3"
  },
  "language_info": {
   "codemirror_mode": {
    "name": "ipython",
    "version": 3
   },
   "file_extension": ".py",
   "mimetype": "text/x-python",
   "name": "python",
   "nbconvert_exporter": "python",
   "pygments_lexer": "ipython3",
   "version": "3.9.7"
  }
 },
 "nbformat": 4,
 "nbformat_minor": 5
}
