{
 "cells": [
  {
   "cell_type": "code",
   "execution_count": 1,
   "id": "e7843987",
   "metadata": {},
   "outputs": [],
   "source": [
    "import numpy as np"
   ]
  },
  {
   "cell_type": "code",
   "execution_count": 2,
   "id": "b591ab49",
   "metadata": {},
   "outputs": [],
   "source": [
    "def walker_walk(walker, goingCW):\n",
    "    if walker == 11 and goingCW:\n",
    "        walker = 0 \n",
    "    elif walker == 0 and not goingCW:\n",
    "        walker = 11\n",
    "    else:\n",
    "        walker += 1 if goingCW else -1\n",
    "    return walker"
   ]
  },
  {
   "cell_type": "code",
   "execution_count": 3,
   "id": "6cbb4b01",
   "metadata": {},
   "outputs": [],
   "source": [
    "def run_walk():\n",
    "    walker = 0\n",
    "    havent_hit_0_yet = True\n",
    "\n",
    "    while havent_hit_0_yet and walker != 6:\n",
    "        prob = np.random.rand(1)[0]\n",
    "        goingCW = prob > .5 \n",
    "#         print(f'goingCW {goingCW}')\n",
    "        walker = walker_walk(walker, goingCW)\n",
    "\n",
    "        if havent_hit_0_yet and walker == 0:\n",
    "            havent_hit_0_yet = False\n",
    "        \n",
    "#         print(f'walker at: {walker}')\n",
    "    return walker"
   ]
  },
  {
   "cell_type": "code",
   "execution_count": 4,
   "id": "199dd781",
   "metadata": {},
   "outputs": [],
   "source": [
    "def question1():\n",
    "    num_0, num_6  = 0,  0,\n",
    "    total_trials = 1000000\n",
    "    for i in range(total_trials):\n",
    "        walk_res = run_walk()\n",
    "        if walk_res == 0:\n",
    "            num_0 += 1\n",
    "        elif walk_res == 6:\n",
    "            num_6 += 1\n",
    "\n",
    "    #     print(walk_res)\n",
    "\n",
    "    print(f'num 0 is: {num_0}')\n",
    "    print(f'num 6 is: {num_6}')\n",
    "    print(f'6 percentage: {100*num_6/total_trials:.2f}%')"
   ]
  },
  {
   "cell_type": "code",
   "execution_count": 5,
   "id": "135d45aa",
   "metadata": {},
   "outputs": [
    {
     "name": "stdout",
     "output_type": "stream",
     "text": [
      "num 0 is: 833512\n",
      "num 6 is: 166488\n",
      "6 percentage: 16.65%\n"
     ]
    }
   ],
   "source": [
    "def walker_walk_2(walker, goingCW):\n",
    "    if walker == 11 and goingCW:\n",
    "        walker = 0 \n",
    "    elif walker == 0 and not goingCW:\n",
    "        walker = 11\n",
    "    elif walker == 9:\n",
    "        walker = 8\n",
    "    elif walker == 10:\n",
    "        walker = 11\n",
    "    else:\n",
    "        walker += 1 if goingCW else -1\n",
    "    return walker"
   ]
  }
 ],
 "metadata": {
  "kernelspec": {
   "display_name": "Python 3 (ipykernel)",
   "language": "python",
   "name": "python3"
  },
  "language_info": {
   "codemirror_mode": {
    "name": "ipython",
    "version": 3
   },
   "file_extension": ".py",
   "mimetype": "text/x-python",
   "name": "python",
   "nbconvert_exporter": "python",
   "pygments_lexer": "ipython3",
   "version": "3.9.7"
  }
 },
 "nbformat": 4,
 "nbformat_minor": 5
}
